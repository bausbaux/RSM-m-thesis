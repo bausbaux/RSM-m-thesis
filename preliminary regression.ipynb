{
 "cells": [
  {
   "cell_type": "code",
   "execution_count": 55,
   "id": "f6111909-8140-4fcf-807b-2a56d67267f3",
   "metadata": {},
   "outputs": [],
   "source": [
    "import pandas as pd\n",
    "\n",
    "df_final = pd.read_csv('final_balanced_sample_for_did.csv')"
   ]
  },
  {
   "cell_type": "code",
   "execution_count": 56,
   "id": "b532e001-16a0-4e03-a609-5eb9c475f4c0",
   "metadata": {},
   "outputs": [
    {
     "name": "stdout",
     "output_type": "stream",
     "text": [
      "rating                        0\n",
      "Recommend                     0\n",
      "Business Outlook              0\n",
      "firm_link                     0\n",
      "date                          0\n",
      "job                           0\n",
      "full_review                   0\n",
      "treated                       0\n",
      "CEO_Approval_Sentiment        0\n",
      "Business_Outlook_Sentiment    0\n",
      "seniority_level               0\n",
      "company_name                  0\n",
      "EU_or_NonEU                   0\n",
      "year                          0\n",
      "vader_compound                0\n",
      "EU_vs_NonEU                   0\n",
      "post_gdpr                     0\n",
      "company_size                  0\n",
      "dtype: int64\n",
      "   rating Recommend Business Outlook  \\\n",
      "0     5.0         o                o   \n",
      "1     3.0         x                r   \n",
      "2     4.0         v                v   \n",
      "3     4.0         v                v   \n",
      "4     4.0         v                v   \n",
      "\n",
      "                                           firm_link        date  \\\n",
      "0  https://www.glassdoor.com/Reviews/Brose-Review...  2023-04-06   \n",
      "1  https://www.glassdoor.com/Reviews/Brose-Review...  2023-04-07   \n",
      "2  https://www.glassdoor.com/Reviews/Brose-Review...  2023-03-03   \n",
      "3  https://www.glassdoor.com/Reviews/Brose-Review...  2023-03-19   \n",
      "4  https://www.glassdoor.com/Reviews/Brose-Review...  2023-03-02   \n",
      "\n",
      "                           job  \\\n",
      "0   Project Engineering Intern   \n",
      "1             Project Engineer   \n",
      "2                  IT Engineer   \n",
      "3          Mechanical Engineer   \n",
      "4           Anonymous Employee   \n",
      "\n",
      "                                         full_review  treated  \\\n",
      "0  Very approachable and kind coworkers. Made sur...        1   \n",
      "1  Excellent medical, dental, vision benefits. Ge...        1   \n",
      "2  Company operates in a very professional manner...        1   \n",
      "3  Structured approach High standardization Growt...        1   \n",
      "4  Great benefits, employees only pay 20% from pa...        1   \n",
      "\n",
      "   CEO_Approval_Sentiment  Business_Outlook_Sentiment seniority_level  \\\n",
      "0                     0.0                         0.0          Senior   \n",
      "1                     0.5                         0.5          Senior   \n",
      "2                     1.0                         1.0       Mid-Level   \n",
      "3                     1.0                         1.0          Senior   \n",
      "4                     0.0                         1.0          Senior   \n",
      "\n",
      "  company_name EU_or_NonEU  year  vader_compound EU_vs_NonEU  post_gdpr  \\\n",
      "0        Brose          EU  2023          0.9483          EU          1   \n",
      "1        Brose          EU  2023          0.9100          EU          1   \n",
      "2        Brose          EU  2023         -0.2732          EU          1   \n",
      "3        Brose          EU  2023          0.6486          EU          1   \n",
      "4        Brose          EU  2023          0.8442          EU          1   \n",
      "\n",
      "  company_size  \n",
      "0        Large  \n",
      "1        Large  \n",
      "2        Large  \n",
      "3        Large  \n",
      "4        Large  \n"
     ]
    }
   ],
   "source": [
    "\n",
    "\n",
    "# Checking for missing data\n",
    "missing_data = df_final.isnull().sum()\n",
    "print(missing_data)\n",
    "\n",
    "print(df_final.head())\n"
   ]
  },
  {
   "cell_type": "code",
   "execution_count": 57,
   "id": "850872a3-e263-4966-85b2-a4bc644df8ca",
   "metadata": {},
   "outputs": [
    {
     "name": "stdout",
     "output_type": "stream",
     "text": [
      "         vader_compound    rating\n",
      "treated                          \n",
      "0              0.533751  3.477356\n",
      "1              0.497389  3.300330\n"
     ]
    }
   ],
   "source": [
    "# Check balance of treated vs control in the pre-GDPR period\n",
    "pre_gdpr_data = df_final_balanced_sample[df_final_balanced_sample['post_gdpr'] == 0]\n",
    "print(pre_gdpr_data.groupby('treated').agg({'vader_compound': 'mean', 'rating': 'mean'}))\n"
   ]
  },
  {
   "cell_type": "code",
   "execution_count": 58,
   "id": "0539e808-7ec1-46ad-8f4f-062b6e9b452b",
   "metadata": {},
   "outputs": [
    {
     "name": "stdout",
     "output_type": "stream",
     "text": [
      "Remaining columns: ['rating', 'Recommend', 'Business Outlook', 'firm_link', 'date', 'job', 'full_review', 'treated', 'CEO_Approval_Sentiment', 'Business_Outlook_Sentiment', 'seniority_level', 'company_name', 'EU_or_NonEU', 'year', 'vader_compound', 'EU_vs_NonEU', 'post_gdpr', 'company_size']\n"
     ]
    }
   ],
   "source": [
    "# Remove duplicated columns from the dataframe (if any)\n",
    "df_final = df_final.loc[:, ~df_final.columns.duplicated()].copy()\n",
    "\n",
    "# Verify if there are any duplicated columns after the operation\n",
    "print(f\"Remaining columns: {df_final.columns.tolist()}\")\n"
   ]
  },
  {
   "cell_type": "code",
   "execution_count": 59,
   "id": "569a27a2-536d-42de-96e8-8891163772d2",
   "metadata": {},
   "outputs": [
    {
     "data": {
      "text/html": [
       "<div>\n",
       "<style scoped>\n",
       "    .dataframe tbody tr th:only-of-type {\n",
       "        vertical-align: middle;\n",
       "    }\n",
       "\n",
       "    .dataframe tbody tr th {\n",
       "        vertical-align: top;\n",
       "    }\n",
       "\n",
       "    .dataframe thead th {\n",
       "        text-align: right;\n",
       "    }\n",
       "</style>\n",
       "<table border=\"1\" class=\"dataframe\">\n",
       "  <thead>\n",
       "    <tr style=\"text-align: right;\">\n",
       "      <th></th>\n",
       "      <th>treated</th>\n",
       "      <th>post_gdpr</th>\n",
       "      <th>vader_compound</th>\n",
       "      <th>seniority_level</th>\n",
       "      <th>EU_or_NonEU</th>\n",
       "      <th>company_size</th>\n",
       "    </tr>\n",
       "  </thead>\n",
       "  <tbody>\n",
       "    <tr>\n",
       "      <th>0</th>\n",
       "      <td>1</td>\n",
       "      <td>1</td>\n",
       "      <td>0.9483</td>\n",
       "      <td>Senior</td>\n",
       "      <td>EU</td>\n",
       "      <td>Large</td>\n",
       "    </tr>\n",
       "    <tr>\n",
       "      <th>1</th>\n",
       "      <td>1</td>\n",
       "      <td>1</td>\n",
       "      <td>0.9100</td>\n",
       "      <td>Senior</td>\n",
       "      <td>EU</td>\n",
       "      <td>Large</td>\n",
       "    </tr>\n",
       "    <tr>\n",
       "      <th>2</th>\n",
       "      <td>1</td>\n",
       "      <td>1</td>\n",
       "      <td>-0.2732</td>\n",
       "      <td>Mid-Level</td>\n",
       "      <td>EU</td>\n",
       "      <td>Large</td>\n",
       "    </tr>\n",
       "    <tr>\n",
       "      <th>3</th>\n",
       "      <td>1</td>\n",
       "      <td>1</td>\n",
       "      <td>0.6486</td>\n",
       "      <td>Senior</td>\n",
       "      <td>EU</td>\n",
       "      <td>Large</td>\n",
       "    </tr>\n",
       "    <tr>\n",
       "      <th>4</th>\n",
       "      <td>1</td>\n",
       "      <td>1</td>\n",
       "      <td>0.8442</td>\n",
       "      <td>Senior</td>\n",
       "      <td>EU</td>\n",
       "      <td>Large</td>\n",
       "    </tr>\n",
       "  </tbody>\n",
       "</table>\n",
       "</div>"
      ],
      "text/plain": [
       "   treated  post_gdpr  vader_compound seniority_level EU_or_NonEU company_size\n",
       "0        1          1          0.9483          Senior          EU        Large\n",
       "1        1          1          0.9100          Senior          EU        Large\n",
       "2        1          1         -0.2732       Mid-Level          EU        Large\n",
       "3        1          1          0.6486          Senior          EU        Large\n",
       "4        1          1          0.8442          Senior          EU        Large"
      ]
     },
     "execution_count": 59,
     "metadata": {},
     "output_type": "execute_result"
    }
   ],
   "source": [
    "# Ensure 'treated' and 'post_gdpr' are already defined in the dataset\n",
    "# Let's check if the variables are correctly defined\n",
    "df_final[['treated', 'post_gdpr', 'vader_compound', 'seniority_level', 'EU_or_NonEU', 'company_size']].head()\n"
   ]
  },
  {
   "cell_type": "code",
   "execution_count": 67,
   "id": "d69b9a04-a40c-43bf-a31b-d9cb06247119",
   "metadata": {},
   "outputs": [
    {
     "name": "stdout",
     "output_type": "stream",
     "text": [
      "Index(['rating', 'Recommend', 'Business Outlook', 'firm_link', 'date', 'job',\n",
      "       'full_review', 'treated', 'CEO_Approval_Sentiment',\n",
      "       'Business_Outlook_Sentiment', 'company_name', 'EU_or_NonEU', 'year',\n",
      "       'vader_compound', 'EU_vs_NonEU', 'post_gdpr', 'company_size_Medium',\n",
      "       'company_size_Small', 'seniority_level_Junior',\n",
      "       'seniority_level_Mid-Level', 'seniority_level_Senior'],\n",
      "      dtype='object')\n"
     ]
    }
   ],
   "source": [
    "# Check unique values in the 'company_size' column before applying get_dummies\n",
    "#print(df_final['company_size'].unique())\n",
    "# Convert company_size to dummies and ensure 'drop_first=True' to avoid perfect multicollinearity\n",
    "#df_final = pd.get_dummies(df_final, columns=['company_size'], drop_first=True)\n",
    "\n",
    "# Verify that the columns have been created correctly\n",
    "print(df_final.columns)\n"
   ]
  },
  {
   "cell_type": "code",
   "execution_count": 82,
   "id": "2778ab0b-70be-4655-b29f-de95660b7bd4",
   "metadata": {},
   "outputs": [
    {
     "name": "stdout",
     "output_type": "stream",
     "text": [
      "                            OLS Regression Results                            \n",
      "==============================================================================\n",
      "Dep. Variable:         vader_compound   R-squared:                       0.162\n",
      "Model:                            OLS   Adj. R-squared:                  0.157\n",
      "Method:                 Least Squares   F-statistic:                     33.52\n",
      "Date:                Tue, 29 Apr 2025   Prob (F-statistic):          1.76e-134\n",
      "Time:                        17:08:48   Log-Likelihood:                -2346.1\n",
      "No. Observations:                4018   AIC:                             4740.\n",
      "Df Residuals:                    3994   BIC:                             4891.\n",
      "Df Model:                          23                                         \n",
      "Covariance Type:            nonrobust                                         \n",
      "==================================================================================================\n",
      "                                     coef    std err          t      P>|t|      [0.025      0.975]\n",
      "--------------------------------------------------------------------------------------------------\n",
      "Intercept                         -0.1695      0.111     -1.527      0.127      -0.387       0.048\n",
      "seniority_level_Mid[T.True]        0.0374      0.023      1.640      0.101      -0.007       0.082\n",
      "seniority_level_Senior[T.True]    -0.0133      0.016     -0.846      0.398      -0.044       0.017\n",
      "company_size_Medium[T.True]       -0.0695      0.023     -2.965      0.003      -0.115      -0.024\n",
      "company_size_Small[T.True]        -0.0238      0.036     -0.654      0.513      -0.095       0.048\n",
      "C(year)[T.2009]                    0.1000      0.188      0.530      0.596      -0.270       0.470\n",
      "C(year)[T.2010]                    0.2001      0.133      1.507      0.132      -0.060       0.461\n",
      "C(year)[T.2011]                    0.3540      0.127      2.791      0.005       0.105       0.603\n",
      "C(year)[T.2012]                    0.1912      0.122      1.569      0.117      -0.048       0.430\n",
      "C(year)[T.2013]                    0.2215      0.118      1.880      0.060      -0.009       0.453\n",
      "C(year)[T.2014]                    0.1609      0.115      1.399      0.162      -0.065       0.386\n",
      "C(year)[T.2015]                    0.2311      0.113      2.054      0.040       0.011       0.452\n",
      "C(year)[T.2016]                    0.2511      0.112      2.240      0.025       0.031       0.471\n",
      "C(year)[T.2017]                    0.1616      0.112      1.439      0.150      -0.059       0.382\n",
      "C(year)[T.2018]                    0.1395      0.118      1.184      0.236      -0.091       0.370\n",
      "C(year)[T.2019]                    0.0891      0.124      0.716      0.474      -0.155       0.333\n",
      "C(year)[T.2020]                    0.0959      0.124      0.775      0.438      -0.147       0.338\n",
      "C(year)[T.2021]                    0.1024      0.123      0.834      0.404      -0.138       0.343\n",
      "C(year)[T.2022]                    0.0981      0.123      0.797      0.426      -0.143       0.339\n",
      "C(year)[T.2023]                    0.0901      0.125      0.722      0.470      -0.154       0.335\n",
      "post_gdpr                         -0.0475      0.055     -0.870      0.385      -0.155       0.060\n",
      "treated                           -0.0201      0.024     -0.833      0.405      -0.067       0.027\n",
      "post_gdpr:treated                  0.0762      0.029      2.609      0.009       0.019       0.133\n",
      "rating                             0.1485      0.006     26.311      0.000       0.137       0.160\n",
      "==============================================================================\n",
      "Omnibus:                      332.292   Durbin-Watson:                   1.927\n",
      "Prob(Omnibus):                  0.000   Jarque-Bera (JB):              420.148\n",
      "Skew:                          -0.791   Prob(JB):                     5.83e-92\n",
      "Kurtosis:                       3.084   Cond. No.                         265.\n",
      "==============================================================================\n",
      "\n",
      "Notes:\n",
      "[1] Standard Errors assume that the covariance matrix of the errors is correctly specified.\n"
     ]
    }
   ],
   "source": [
    "# Strip any leading/trailing spaces from column names to avoid errors\n",
    "#df_final.columns = df_final.columns.str.strip()\n",
    "\n",
    "# Convert categorical variables into dummies\n",
    "#df_final = pd.get_dummies(df_final, columns=['seniority_level'], drop_first=True)\n",
    "\n",
    "# Make sure there are no missing values in key columns\n",
    "#df_final = df_final.dropna(subset=['vader_compound', 'post_gdpr', 'treated', 'seniority_level_Mid-Level', 'seniority_level_Senior', 'company_size_Large', 'company_size_Medium'])\n",
    "\n",
    "# If firm_link has too many unique values, consider replacing it with a firm ID\n",
    "# For now, let's exclude firm_link for simplicity, or use a smaller categorization\n",
    "# If you choose to use firm_link, ensure it is treated as a categorical variable\n",
    "# df_final['firm_link'] = df_final['firm_link'].astype('category')\n",
    "df_final['date'] = pd.to_datetime(df_final['date'])\n",
    "df_final['year'] = df_final['date'].dt.year\n",
    "\n",
    "\n",
    "# Set up the regression formula\n",
    "df_final = df_final.rename(columns={'seniority_level_Mid-Level': 'seniority_level_Mid'})\n",
    "\n",
    "\n",
    "formula = \"\"\"\n",
    "vader_compound ~ post_gdpr * treated + rating + seniority_level_Mid + seniority_level_Senior + treated \n",
    "+ company_size_Medium + company_size_Small + + C(year)\n",
    "\"\"\"\n",
    "\n",
    "# Fit the OLS regression model\n",
    "model = smf.ols(formula=formula, data=df_final).fit()\n",
    "\n",
    "# Print the summary of the regression model\n",
    "print(model.summary())"
   ]
  },
  {
   "cell_type": "code",
   "execution_count": 79,
   "id": "38f5df7f-b0bf-4142-af15-fbab403a1a6f",
   "metadata": {},
   "outputs": [
    {
     "data": {
      "image/png": "[encoded data removed]",
      "text/plain": [
       "<Figure size 640x480 with 1 Axes>"
      ]
     },
     "metadata": {},
     "output_type": "display_data"
    }
   ],
   "source": [
    "import seaborn as sns\n",
    "import matplotlib.pyplot as plt\n",
    "# Coefficients from the regression results\n",
    "coef = model.params\n",
    "\n",
    "# Extract the coefficient for the interaction term (Post-GDPR * Treated)\n",
    "interaction_term = coef['post_gdpr:treated']\n",
    "\n",
    "# Visualizing the results\n",
    "sns.barplot(x=['Post-GDPR * Treated'], y=[interaction_term])\n",
    "plt.title('Impact of GDPR on Sentiment for EU vs Non-EU Companies')\n",
    "plt.ylabel('Coefficient (Sentiment Impact)')\n",
    "plt.show()\n"
   ]
  },
  {
   "cell_type": "code",
   "execution_count": null,
   "id": "a42dacc3-1045-4911-965d-3951682f10dd",
   "metadata": {},
   "outputs": [],
   "source": [
    "# Robust standard errors to account for heteroscedasticity\n",
    "robust_model = model.get_robustcov_results(cov_type='HC3')\n",
    "\n",
    "# Print the results with robust standard errors\n",
    "print(robust_model.summary())\n"
   ]
  }
 ],
 "metadata": {
  "kernelspec": {
   "display_name": "Python 3 (ipykernel)",
   "language": "python",
   "name": "python3"
  },
  "language_info": {
   "codemirror_mode": {
    "name": "ipython",
    "version": 3
   },
   "file_extension": ".py",
   "mimetype": "text/x-python",
   "name": "python",
   "nbconvert_exporter": "python",
   "pygments_lexer": "ipython3",
   "version": "3.11.11"
  }
 },
 "nbformat": 4,
 "nbformat_minor": 5
}
